{
  "nbformat": 4,
  "nbformat_minor": 0,
  "metadata": {
    "colab": {
      "provenance": [],
      "authorship_tag": "ABX9TyObr2E2eYEZLOMwF7YgcplO",
      "include_colab_link": true
    },
    "kernelspec": {
      "name": "python3",
      "display_name": "Python 3"
    },
    "language_info": {
      "name": "python"
    }
  },
  "cells": [
    {
      "cell_type": "markdown",
      "metadata": {
        "id": "view-in-github",
        "colab_type": "text"
      },
      "source": [
        "<a href=\"https://colab.research.google.com/github/ermilovim/leetcode/blob/main/Leetcode_150_58_121_%2B%2B.ipynb\" target=\"_parent\"><img src=\"https://colab.research.google.com/assets/colab-badge.svg\" alt=\"Open In Colab\"/></a>"
      ]
    },
    {
      "cell_type": "markdown",
      "source": [
        "# 58. Length of Last Word\n"
      ],
      "metadata": {
        "id": "Pbq9pHrK_N92"
      }
    },
    {
      "cell_type": "code",
      "source": [
        "class Solution:\n",
        "    def lengthOfLastWord(self, s: str) -> int:\n",
        "        return len(s.strip().split(\" \")[-1])"
      ],
      "metadata": {
        "id": "CBqb3UEN_PBy"
      },
      "execution_count": null,
      "outputs": []
    },
    {
      "cell_type": "markdown",
      "source": [
        "# 121. Best Time to Buy and Sell Stock.ipynb"
      ],
      "metadata": {
        "id": "zwqT5wzc_Guy"
      }
    },
    {
      "cell_type": "code",
      "execution_count": null,
      "metadata": {
        "colab": {
          "base_uri": "https://localhost:8080/"
        },
        "id": "Tef9eismO-3O",
        "outputId": "d35a27fa-4bc7-4e49-82e1-a70415c9c70e"
      },
      "outputs": [
        {
          "output_type": "stream",
          "name": "stdout",
          "text": [
            "[7, 6, 4, 3, 1]\n",
            "Max:  7 Min:  7 Sell:  0\n",
            "Max:  6 Min:  6 Sell:  0\n",
            "Max:  4 Min:  4 Sell:  0\n",
            "Max:  3 Min:  3 Sell:  0\n",
            "Max:  1 Min:  1 Sell:  0\n"
          ]
        },
        {
          "output_type": "execute_result",
          "data": {
            "text/plain": [
              "0"
            ]
          },
          "metadata": {},
          "execution_count": 10
        }
      ],
      "source": [
        "def maxProfit(prices):\n",
        "  _min = -1\n",
        "  _max = -1\n",
        "  sell = 0\n",
        "  for elem in prices:\n",
        "    if _min == -1 and _max == -1:\n",
        "      _max = elem\n",
        "      _min = elem\n",
        "    if elem < _min:\n",
        "      _min = elem\n",
        "      _max = -1\n",
        "    if (_max == -1 or elem > _max) and _min != -1:\n",
        "      _max = elem\n",
        "      if _max - _min > sell:\n",
        "        sell = _max - _min\n",
        "    # print(\"Max: \", _max, \"Min: \", _min, \"Sell: \", sell)\n",
        "  return sell\n",
        "\n",
        "\n",
        "# prices = [7,1,5,3,6,4]\n",
        "prices = [7,6,4,3,1]\n",
        "# prices = [2,4,1]\n",
        "print(prices)\n",
        "maxProfit(prices)"
      ]
    },
    {
      "cell_type": "markdown",
      "source": [],
      "metadata": {
        "id": "s0tJfmSG_I5h"
      }
    },
    {
      "cell_type": "markdown",
      "source": [
        "# 125. Valid Palindrome\n"
      ],
      "metadata": {
        "id": "oHUCHA4mmNQ7"
      }
    },
    {
      "cell_type": "code",
      "source": [
        "class Solution:\n",
        "    def isPalindrome(self, s: str) -> bool:\n",
        "        s = s.lower()\n",
        "        s = ''.join(x for x in s if x.isalnum())\n",
        "        return s == s[::-1]"
      ],
      "metadata": {
        "id": "oruxYhICmOQB"
      },
      "execution_count": null,
      "outputs": []
    },
    {
      "cell_type": "markdown",
      "source": [
        "# 202. Happy Number\n",
        "Easy\n",
        "Topics\n",
        "Companies\n",
        "\n",
        "Write an algorithm to determine if a number n is happy.\n",
        "\n",
        "A happy number is a number defined by the following process:\n",
        "\n",
        "    Starting with any positive integer, replace the number by the sum of the squares of its digits.\n",
        "    Repeat the process until the number equals 1 (where it will stay), or it loops endlessly in a cycle which does not include 1.\n",
        "    Those numbers for which this process ends in 1 are happy.\n",
        "\n",
        "Return true if n is a happy number, and false if not."
      ],
      "metadata": {
        "id": "QqtTVGEnh4qM"
      }
    },
    {
      "cell_type": "code",
      "source": [
        "def isHappy(n: int):\n",
        "  happy = False\n",
        "  hashmap = set()\n",
        "  while True:\n",
        "    digits = list(map(int, list(str(n))))\n",
        "    n = sum([x**2 for x in digits])\n",
        "\n",
        "    if n == 1:\n",
        "      return True\n",
        "    elif n in hashmap:\n",
        "      return False\n",
        "    else:\n",
        "      hashmap.add(n)\n",
        "\n",
        "n = 19\n",
        "isHappy(n)"
      ],
      "metadata": {
        "colab": {
          "base_uri": "https://localhost:8080/"
        },
        "id": "C6MDWK5ph9YE",
        "outputId": "a3e6d2dc-dc7a-48ee-b20e-f853a7a349e6"
      },
      "execution_count": null,
      "outputs": [
        {
          "output_type": "stream",
          "name": "stdout",
          "text": [
            "[1, 9]\n",
            "[8, 2]\n",
            "[6, 8]\n",
            "[1, 0, 0]\n"
          ]
        },
        {
          "output_type": "execute_result",
          "data": {
            "text/plain": [
              "True"
            ]
          },
          "metadata": {},
          "execution_count": 6
        }
      ]
    }
  ]
}